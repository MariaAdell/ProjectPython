{
 "cells": [
  {
   "cell_type": "code",
   "execution_count": null,
   "id": "57cc28c8",
   "metadata": {},
   "outputs": [],
   "source": [
    "# importaciones iniciales\n",
    "\n",
    "from functools import reduce\n",
    "import math"
   ]
  },
  {
   "cell_type": "code",
   "execution_count": 8,
   "id": "6e2e0f2a",
   "metadata": {},
   "outputs": [],
   "source": [
    "def frecuencia_letras(cadena):\n",
    "    \"\"\"\n",
    "    Calcula la frecuencia de cada letra en la cadena, ignorando espacios.\n",
    "\n",
    "    Args:\n",
    "        cadena (str): Texto de entrada.\n",
    "\n",
    "    Returns:\n",
    "        dict: Diccionario con letras como claves y su frecuencia como valores.\n",
    "    \"\"\"\n",
    "    cadena_sin_espacios = cadena.replace(\" \", \"\")\n",
    "    frecuencias = {}\n",
    "\n",
    "    for caracter in cadena_sin_espacios:\n",
    "        frecuencias[caracter] = frecuencias.get(caracter, 0) + 1\n",
    "\n",
    "    return frecuencias\n",
    "\n"
   ]
  },
  {
   "cell_type": "code",
   "execution_count": 10,
   "id": "b8881270",
   "metadata": {},
   "outputs": [
    {
     "data": {
      "text/plain": [
       "{'a': 2, 's': 1, 'f': 1}"
      ]
     },
     "execution_count": 10,
     "metadata": {},
     "output_type": "execute_result"
    }
   ],
   "source": [
    "frecuencia_letras(\"asfa\")\n"
   ]
  },
  {
   "cell_type": "code",
   "execution_count": 11,
   "id": "97ec2791",
   "metadata": {},
   "outputs": [],
   "source": [
    "def duplicar_valores(lista_numeros):\n",
    "    \"\"\"\n",
    "    Devuelve una nueva lista con el doble de cada número usando map().\n",
    "\n",
    "    Args:\n",
    "        lista_numeros (list): Lista de números (int o float) a procesar.\n",
    "\n",
    "    Returns:\n",
    "        list: Lista con los valores originales multiplicados por 2.\n",
    "    \"\"\"\n",
    "    # map() aplica la función lambda a cada elemento de lista_numeros\n",
    "    \n",
    "    return list(map(lambda x: x * 2, lista_numeros))"
   ]
  },
  {
   "cell_type": "code",
   "execution_count": 14,
   "id": "67914b3a",
   "metadata": {},
   "outputs": [
    {
     "data": {
      "text/plain": [
       "[4, 15.0, 46]"
      ]
     },
     "execution_count": 14,
     "metadata": {},
     "output_type": "execute_result"
    }
   ],
   "source": [
    "duplicar_valores([2,7.5,23])"
   ]
  },
  {
   "cell_type": "code",
   "execution_count": null,
   "id": "389cbbb9",
   "metadata": {},
   "outputs": [],
   "source": [
    "def filtrar_palabras_objetivo(lista_palabras, palabra_objetivo):\n",
    "    \"\"\"\n",
    "    Filtra las palabras que contienen la palabra objetivo.\n",
    "\n",
    "    Args:\n",
    "        lista_palabras (list): Lista de palabras a analizar.\n",
    "        palabra_objetivo (str): Texto a buscar dentro de cada palabra.\n",
    "\n",
    "    Returns:\n",
    "        list: Lista con las palabras que contienen la palabra objetivo.\n",
    "    \"\"\"\n",
    "    \n",
    "    palabras_filtradas = []\n",
    "\n",
    "    for palabra in lista_palabras:\n",
    "      \n",
    "        if palabra_objetivo in palabra:\n",
    "            palabras_filtradas.append(palabra)\n",
    "\n",
    "    return palabras_filtradas"
   ]
  },
  {
   "cell_type": "code",
   "execution_count": null,
   "id": "cfec2207",
   "metadata": {},
   "outputs": [
    {
     "data": {
      "text/plain": [
       "['casa', 'casco', 'casualidad']"
      ]
     },
     "execution_count": 21,
     "metadata": {},
     "output_type": "execute_result"
    }
   ],
   "source": [
    "palabras = [\"casa\", \"casco\", \"perro\", \"casualidad\", \"gato\"]\n",
    "resultado = filtrar_palabras_objetivo(palabras,\"cas\")\n",
    "resultado"
   ]
  },
  {
   "cell_type": "code",
   "execution_count": 25,
   "id": "ed063e8c",
   "metadata": {},
   "outputs": [],
   "source": [
    "def diferencia_listas (lista1, lista2):\n",
    "    \"\"\"\n",
    "    Calcula la diferencia entre valores de dos listas (lista1 - lista2) \n",
    "\n",
    "    Args:\n",
    "        lista1 (list): Primera lista de números (int o float).\n",
    "        lista2 (list): Segunda lista de números (int o float).\n",
    "\n",
    "    Returns:\n",
    "        list: Lista con las diferencias elemento a elemento.\n",
    "    \"\"\"\n",
    "    return list(map(lambda a, b: a-b, lista1, lista2))"
   ]
  },
  {
   "cell_type": "code",
   "execution_count": 26,
   "id": "0f000217",
   "metadata": {},
   "outputs": [
    {
     "name": "stdout",
     "output_type": "stream",
     "text": [
      "[9, 18, 27]\n",
      "[-9, -18, -27]\n"
     ]
    }
   ],
   "source": [
    "lista_a = [10, 20, 30]\n",
    "lista_b = [1, 2, 3]\n",
    "\n",
    "print(diferencia_listas(lista_a, lista_b)) \n",
    "print(diferencia_listas(lista_b,lista_a))"
   ]
  },
  {
   "cell_type": "code",
   "execution_count": 27,
   "id": "5a69e404",
   "metadata": {},
   "outputs": [],
   "source": [
    "def evaluar_nota (lista_numeros, nota_aprobado = 5):\n",
    "    \"\"\"\n",
    "    Calcula la media de una lista de números y determina el estado.\n",
    "\n",
    "    Args:\n",
    "        lista_numeros (list): Lista de números .\n",
    "        nota_aprobado (int or float, opcional): Nota mínima para aprobar. Por defecto es 5.\n",
    "\n",
    "    Returns:\n",
    "        tuple: (media, estado) \n",
    "    \"\"\"\n",
    "\n",
    "    media = sum(lista_numeros) / len(lista_numeros)\n",
    "    estado = \"aprobado\" if media >= nota_aprobado else \"suspenso\"\n",
    "    \n",
    "    return media, estado\n"
   ]
  },
  {
   "cell_type": "code",
   "execution_count": 28,
   "id": "ba5c79ad",
   "metadata": {},
   "outputs": [
    {
     "name": "stdout",
     "output_type": "stream",
     "text": [
      "(6.5, 'aprobado')\n",
      "(6.5, 'suspenso')\n"
     ]
    }
   ],
   "source": [
    "notas = [6, 7, 5, 8]\n",
    "print(evaluar_nota(notas))         \n",
    "print(evaluar_nota(notas, 7)) "
   ]
  },
  {
   "cell_type": "code",
   "execution_count": 29,
   "id": "5ea9a7df",
   "metadata": {},
   "outputs": [],
   "source": [
    "def factorial(numero):\n",
    "    \"\"\"\n",
    "    Calcula el factorial de un número de forma recursiva.\n",
    "\n",
    "    Args:\n",
    "        n (int): Número entero.\n",
    "\n",
    "    Returns:\n",
    "        int: Factorial de n.\n",
    "    \"\"\"\n",
    "    if numero < 0:\n",
    "        raise ValueError(\"El número debe ser entero no negativo\")\n",
    "    \n",
    "    if numero == 0:\n",
    "        return 1\n",
    "\n",
    "    resultado = numero * factorial(numero - 1)\n",
    "    \n",
    "    return resultado\n"
   ]
  },
  {
   "cell_type": "code",
   "execution_count": 30,
   "id": "fdce6d10",
   "metadata": {},
   "outputs": [
    {
     "data": {
      "text/plain": [
       "120"
      ]
     },
     "execution_count": 30,
     "metadata": {},
     "output_type": "execute_result"
    }
   ],
   "source": [
    "factorial(5)\n"
   ]
  },
  {
   "cell_type": "code",
   "execution_count": 3,
   "id": "377e5001",
   "metadata": {},
   "outputs": [],
   "source": [
    "def tupla_a_string(lista_tuplas):\n",
    "    \"\"\"_summary_\n",
    "\n",
    "    Convierte una lista de tuplas en una lista de strings.\n",
    "\n",
    "    Args:\n",
    "        lista_tuplas (list): Lista de tuplas\n",
    "\n",
    "    Returns:\n",
    "        list: Lista de strings\n",
    "    \"\"\"\n",
    "\n",
    "    return list(map(lambda t: \",\".join(map(str, t)), lista_tuplas))\n"
   ]
  },
  {
   "cell_type": "code",
   "execution_count": 4,
   "id": "89c6c92f",
   "metadata": {},
   "outputs": [
    {
     "data": {
      "text/plain": [
       "['1,2', '3,4,5', 'a,b']"
      ]
     },
     "execution_count": 4,
     "metadata": {},
     "output_type": "execute_result"
    }
   ],
   "source": [
    "datos = [(1, 2), (3, 4, 5), (\"a\", \"b\")]\n",
    "tupla_a_string(datos)"
   ]
  },
  {
   "cell_type": "code",
   "execution_count": 6,
   "id": "cc92f44f",
   "metadata": {},
   "outputs": [],
   "source": [
    "def dividir_numeros():\n",
    "    \"\"\"\n",
    "    Pide dos números al usuario e intenta dividirlos.\n",
    "    Maneja errores de valor no numérico y división por cero.\n",
    "    \"\"\"\n",
    "    try:\n",
    "        a = float(input(\"Introduce el primer número: \"))\n",
    "        b = float(input(\"Introduce el segundo número: \"))\n",
    "\n",
    "        resultado = a / b\n",
    "\n",
    "    except ValueError:\n",
    "        print(\"Error: Debes introducir valores numéricos.\")\n",
    "    except ZeroDivisionError:\n",
    "        print(\"Error: No se puede dividir entre cero.\")\n",
    "    else:\n",
    "        print(f\"División correcta. El resultado de la división es {resultado}\")\n",
    "    finally:\n",
    "        print(\"Fin de la ejecución.\")"
   ]
  },
  {
   "cell_type": "code",
   "execution_count": 9,
   "id": "634f6916",
   "metadata": {},
   "outputs": [
    {
     "name": "stdout",
     "output_type": "stream",
     "text": [
      "División correcta. El resultado de la división es 0.10344827586206896\n",
      "Fin de la ejecución.\n"
     ]
    }
   ],
   "source": [
    "dividir_numeros()\n"
   ]
  },
  {
   "cell_type": "code",
   "execution_count": 10,
   "id": "38141220",
   "metadata": {},
   "outputs": [],
   "source": [
    "def filtrar_mascotas_prohibidas(lista_mascotas):\n",
    "    \"\"\"\n",
    "    Filtra una lista de mascotas, excluyendo aquellas prohibidas en España.\n",
    "\n",
    "    Args:\n",
    "        lista_mascotas (list): Lista con nombres de mascotas.\n",
    "\n",
    "    Returns:\n",
    "        list: Lista con las mascotas permitidas.\n",
    "    \"\"\"\n",
    "\n",
    "    #constante con la lista de mascotas prohibidas\n",
    "    mascotas_prohibidas = [\"Mapache\", \"Tigre\", \"Serpiente Pitón\", \"Cocodrilo\", \"Oso\"]\n",
    "\n",
    "\n",
    "    return list(filter(lambda mascota: mascota not in mascotas_prohibidas, lista_mascotas))"
   ]
  },
  {
   "cell_type": "code",
   "execution_count": 11,
   "id": "d3909d11",
   "metadata": {},
   "outputs": [
    {
     "name": "stdout",
     "output_type": "stream",
     "text": [
      "['Perro', 'Gato', 'Hamster', 'Loro']\n"
     ]
    }
   ],
   "source": [
    "mascotas = [\"Perro\", \"Gato\", \"Tigre\", \"Hamster\", \"Cocodrilo\", \"Loro\"]\n",
    "print(filtrar_mascotas_prohibidas(mascotas))"
   ]
  },
  {
   "cell_type": "code",
   "execution_count": 26,
   "id": "dabb0ac1",
   "metadata": {},
   "outputs": [],
   "source": [
    "\n",
    "def promedio(lista_numeros):\n",
    "    \"\"\"\n",
    "    Calcula el promedio de una lista de números.\n",
    "\n",
    "    Args:\n",
    "        lista_numeros (list): Lista de números.\n",
    "\n",
    "    Returns:\n",
    "        float: Promedio de los valores de la lista.\n",
    "\n",
    "    Raises:\n",
    "        ValueError: Si la lista está vacía.\n",
    "    \"\"\"\n",
    "\n",
    "    try:\n",
    "\n",
    "        if not lista_numeros:\n",
    "            raise ValueError(\"No se puede calcular el promedio de una lista vacía.\")\n",
    "        \n",
    "        return sum(lista_numeros) / len(lista_numeros)\n",
    "\n",
    "    except ValueError as e:\n",
    "        print(\"Error:\", e)"
   ]
  },
  {
   "cell_type": "code",
   "execution_count": 31,
   "id": "253804f4",
   "metadata": {},
   "outputs": [
    {
     "data": {
      "text/plain": [
       "6.666666666666667"
      ]
     },
     "execution_count": 31,
     "metadata": {},
     "output_type": "execute_result"
    }
   ],
   "source": [
    "promedio([4, 6, 10])\n"
   ]
  },
  {
   "cell_type": "code",
   "execution_count": 30,
   "id": "2fa2ba38",
   "metadata": {},
   "outputs": [
    {
     "name": "stdout",
     "output_type": "stream",
     "text": [
      "Error: No se puede calcular el promedio de una lista vacía.\n"
     ]
    }
   ],
   "source": [
    "promedio([])"
   ]
  },
  {
   "cell_type": "code",
   "execution_count": 32,
   "id": "008a770b",
   "metadata": {},
   "outputs": [],
   "source": [
    "def pedir_edad():\n",
    "    \"\"\"\n",
    "    Pide al usuario su edad, controlando que el valor introducido sea correcto.\n",
    "\n",
    "    Args:\n",
    "        Ninguno (solicita input al usuario).\n",
    "\n",
    "    Returns:\n",
    "        int | None: La edad válida introducida, o None si ocurrió un error.\n",
    "    \"\"\"\n",
    "    try:\n",
    "       \n",
    "        edad = int(input(\"Introduce tu edad: \"))\n",
    "\n",
    "        # Validamos que esté en el rango esperado\n",
    "        if edad < 0 or edad > 120:\n",
    "            raise ValueError(\"Fuera de rango\")\n",
    "\n",
    "    except ValueError as e:\n",
    "    # Distinguimos el mensaje de error\n",
    "        if str(e) == \"Fuera de rango\":\n",
    "            print(\"Error: La edad debe estar entre 0 y 120.\")\n",
    "        else:\n",
    "            print(\"Error: Debes introducir un valor numérico válido.\")\n",
    "        return None\n",
    "    else:\n",
    "        print(\"Edad registrada correctamente.\")\n",
    "        return edad\n",
    "    finally:\n",
    "        print(\"Fin de la ejecución.\")\n"
   ]
  },
  {
   "cell_type": "code",
   "execution_count": 37,
   "id": "39cdf662",
   "metadata": {},
   "outputs": [
    {
     "name": "stdout",
     "output_type": "stream",
     "text": [
      "Edad registrada correctamente.\n",
      "Fin de la ejecución.\n"
     ]
    },
    {
     "data": {
      "text/plain": [
       "42"
      ]
     },
     "execution_count": 37,
     "metadata": {},
     "output_type": "execute_result"
    }
   ],
   "source": [
    "pedir_edad()\n"
   ]
  },
  {
   "cell_type": "code",
   "execution_count": 38,
   "id": "d213c871",
   "metadata": {},
   "outputs": [],
   "source": [
    "def longitud_palabras(frase):\n",
    "    \"\"\"\n",
    "    Devuelve una lista con la longitud de cada palabra en la frase.\n",
    "\n",
    "    Args:\n",
    "        frase (str): Texto con una o más palabras separadas por espacios.\n",
    "\n",
    "    Returns:\n",
    "        list: Lista de enteros representando la longitud de cada palabra.\n",
    "    \"\"\"\n",
    "    palabras = frase.split()  \n",
    "    return list(map(len, palabras)) "
   ]
  },
  {
   "cell_type": "code",
   "execution_count": 40,
   "id": "f082c97b",
   "metadata": {},
   "outputs": [
    {
     "data": {
      "text/plain": [
       "[2, 5, 5, 6]"
      ]
     },
     "execution_count": 40,
     "metadata": {},
     "output_type": "execute_result"
    }
   ],
   "source": [
    "frase = \"El perro corre rápido\"\n",
    "\n",
    "longitud_palabras(frase)  "
   ]
  },
  {
   "cell_type": "code",
   "execution_count": 44,
   "id": "fba563ed",
   "metadata": {},
   "outputs": [],
   "source": [
    "def tupla_mayus_minus(conjunto_caracteres):\n",
    "    \"\"\"\n",
    "    Genera una lista de tuplas (mayúscula, minúscula) para cada carácter único.\n",
    "\n",
    "    Args:\n",
    "        conjunto_caracteres: Conjunto de caracteres.\n",
    "\n",
    "    Returns:\n",
    "        list: Lista de tuplas con cada carácter en mayúscula y minúscula.\n",
    "    \"\"\"\n",
    "\n",
    "    # Usamos set() para eliminar repetidos. Ademas lo pasamos a minúsculas para unificar y quiter bien los repetidos\n",
    "    caracteres_unicos = set(c.lower() for c in conjunto_caracteres)\n",
    "\n",
    "    return list(map(lambda caracter: (caracter.upper(), caracter.lower()), caracteres_unicos))"
   ]
  },
  {
   "cell_type": "code",
   "execution_count": 45,
   "id": "bce6469e",
   "metadata": {},
   "outputs": [
    {
     "data": {
      "text/plain": [
       "[('B', 'b'), ('C', 'c'), ('A', 'a')]"
      ]
     },
     "execution_count": 45,
     "metadata": {},
     "output_type": "execute_result"
    }
   ],
   "source": [
    "conjunto = ['a', 'b', 'A', 'c', 'b']\n",
    "\n",
    "tupla_mayus_minus(conjunto)"
   ]
  },
  {
   "cell_type": "code",
   "execution_count": 46,
   "id": "0bb7f5ed",
   "metadata": {},
   "outputs": [],
   "source": [
    "def filtrar_por_letra(lista_palabras, letra):\n",
    "    \"\"\"\n",
    "    Devuelve las palabras que comienzan con la letra especificada.\n",
    "\n",
    "    Args:\n",
    "        lista_palabras (list): Lista de palabras (str).\n",
    "        letra (str): Letra inicial a buscar.\n",
    "\n",
    "    Returns:\n",
    "        list: Lista de palabras que empiezan con la letra dada.\n",
    "    \"\"\"\n",
    "    return list(filter(lambda palabra: palabra.startswith(letra), lista_palabras))"
   ]
  },
  {
   "cell_type": "code",
   "execution_count": null,
   "id": "9fca513b",
   "metadata": {},
   "outputs": [
    {
     "name": "stdout",
     "output_type": "stream",
     "text": [
      "['casa', 'carro', 'cielo']\n",
      "['perro']\n"
     ]
    }
   ],
   "source": [
    "palabras = [\"casa\", \"perro\", \"carro\", \"gato\", \"cielo\"]\n",
    "\n",
    "print(filtrar_por_letra(palabras, \"c\"))\n",
    "\n",
    "print(filtrar_por_letra(palabras, \"p\"))\n"
   ]
  },
  {
   "cell_type": "code",
   "execution_count": 54,
   "id": "f65e6fd5",
   "metadata": {},
   "outputs": [],
   "source": [
    "def sumar_tres(lista_numeros):\n",
    "    \"\"\"\n",
    "    Devuelve una nueva lista sumando 3 a cada número.\n",
    "\n",
    "    Args:\n",
    "        lista_numeros (list): Lista de números (int o float).\n",
    "\n",
    "    Returns:\n",
    "        list: Lista con los valores sumando 3.\n",
    "    \"\"\"\n",
    "\n",
    "    try:\n",
    "        return list(map(lambda x: x + 3, lista_numeros))    \n",
    "    \n",
    "    except TypeError:\n",
    "        print(\"Error: la lista debe contener solo valores numéricos.\")\n",
    "        return []"
   ]
  },
  {
   "cell_type": "code",
   "execution_count": 55,
   "id": "ab484fef",
   "metadata": {},
   "outputs": [
    {
     "name": "stdout",
     "output_type": "stream",
     "text": [
      "[4, 6, 8, 2]\n",
      "Error: la lista debe contener solo valores numéricos.\n",
      "[]\n"
     ]
    }
   ],
   "source": [
    "\n",
    "print(sumar_tres([1, 3, 5, -1]))      \n",
    "\n",
    "print(sumar_tres([1, \"hola\", 3]))  \n"
   ]
  },
  {
   "cell_type": "code",
   "execution_count": 56,
   "id": "6b9c1e08",
   "metadata": {},
   "outputs": [],
   "source": [
    "def palabras_mas_largas(cadena, n):\n",
    "    \"\"\"\n",
    "    Devuelve las palabras de la cadena que tienen longitud mayor a n.\n",
    "\n",
    "    Args:\n",
    "        cadena (str): Texto de entrada.\n",
    "        n (int): Longitud mínima que deben superar las palabras.\n",
    "\n",
    "    Returns:\n",
    "        list: Lista de palabras con longitud mayor que n.\n",
    "    \"\"\"\n",
    "    try:\n",
    "        n = int(n)  # intentamos asegurar que sea un entero\n",
    "    except Exception:\n",
    "        print(\"Error: n debe ser un número entero.\")\n",
    "        return []\n",
    "\n",
    "    palabras = cadena.split()\n",
    "    return list(filter(lambda palabra: len(palabra) > n, palabras))"
   ]
  },
  {
   "cell_type": "code",
   "execution_count": 57,
   "id": "09f239fc",
   "metadata": {},
   "outputs": [
    {
     "name": "stdout",
     "output_type": "stream",
     "text": [
      "['perro', 'corre', 'rápidamente', 'jardín']\n",
      "Error: n debe ser un número entero.\n",
      "[]\n"
     ]
    }
   ],
   "source": [
    "frase = \"El perro corre rápidamente por el jardín\"\n",
    "\n",
    "print(palabras_mas_largas(frase, 4))\n",
    "\n",
    "print(palabras_mas_largas(frase, \"no-num\"))\n"
   ]
  },
  {
   "cell_type": "code",
   "execution_count": null,
   "id": "8bbb7352",
   "metadata": {},
   "outputs": [],
   "source": [
    "def lista_a_numero(digitos):\n",
    "    \"\"\"\n",
    "    Convierte una lista de dígitos en el número correspondiente.\n",
    "\n",
    "    Args:\n",
    "        digitos (list): Lista de enteros de un solo dígito (0–9).\n",
    "\n",
    "    Returns:\n",
    "        int: Número formado por los dígitos de la lista.\n",
    "    \"\"\"\n",
    "    \n",
    "    try:\n",
    "        # Intentamos convertir todos los elementos a int\n",
    "        digitos = [int(d) for d in digitos]\n",
    "\n",
    "        # Validamos que sean entre 0 y 9\n",
    "        for d in digitos:\n",
    "            if d < 0 or d > 9:\n",
    "                raise ValueError(f\"{d} no es un dígito válido (0–9).\")\n",
    "\n",
    "        return reduce(lambda acc, elemento: acc * 10 + elemento, digitos)\n",
    "\n",
    "\n",
    "    except Exception as e:\n",
    "        print(\"Error:\", e)\n",
    "        return None\n",
    "   \n",
    "    "
   ]
  },
  {
   "cell_type": "code",
   "execution_count": 61,
   "id": "cf5c1f6a",
   "metadata": {},
   "outputs": [
    {
     "name": "stdout",
     "output_type": "stream",
     "text": [
      "572\n",
      "9034\n",
      "Error: 10 no es un dígito válido (0–9).\n",
      "None\n",
      "Error: invalid literal for int() with base 10: 'hola'\n",
      "None\n"
     ]
    }
   ],
   "source": [
    "print(lista_a_numero([5, 7, 2])) \n",
    "print(lista_a_numero([9, 0, 3, 4])) \n",
    "print(lista_a_numero([1, 2, 10]))\n",
    "print(lista_a_numero([3, \"hola\", 5]))\n"
   ]
  },
  {
   "cell_type": "code",
   "execution_count": 62,
   "id": "b9c0149d",
   "metadata": {},
   "outputs": [],
   "source": [
    "def filtrar_estudiantes(estudiantes):\n",
    "    \"\"\"\n",
    "    Filtra los estudiantes con calificación >= 90.\n",
    "\n",
    "    Args:\n",
    "        estudiantes (list): Lista de diccionarios con claves 'nombre', 'edad', 'calificacion'.\n",
    "\n",
    "    Returns:\n",
    "        list: Lista de estudiantes que cumplen la condición.\n",
    "    \"\"\"\n",
    "    return list(filter(lambda est: est[\"calificacion\"] >= 90, estudiantes))"
   ]
  },
  {
   "cell_type": "code",
   "execution_count": 64,
   "id": "4e334e86",
   "metadata": {},
   "outputs": [
    {
     "data": {
      "text/plain": [
       "[{'nombre': 'Maria', 'edad': 20, 'calificacion': 95},\n",
       " {'nombre': 'Marc', 'edad': 21, 'calificacion': 90}]"
      ]
     },
     "execution_count": 64,
     "metadata": {},
     "output_type": "execute_result"
    }
   ],
   "source": [
    "# =========================\n",
    "# Ejemplo de uso\n",
    "# =========================\n",
    "estudiantes = [\n",
    "    {\"nombre\": \"Maria\", \"edad\": 20, \"calificacion\": 95},\n",
    "    {\"nombre\": \"Raul\", \"edad\": 22, \"calificacion\": 85},\n",
    "    {\"nombre\": \"Marc\", \"edad\": 21, \"calificacion\": 90},\n",
    "    {\"nombre\": \"Marta\", \"edad\": 23, \"calificacion\": 70}\n",
    "]\n",
    "\n",
    "filtrar_estudiantes(estudiantes)"
   ]
  },
  {
   "cell_type": "code",
   "execution_count": 65,
   "id": "9bda2c55",
   "metadata": {},
   "outputs": [],
   "source": [
    "def filtrar_impares(lista_numeros):\n",
    "    \"\"\"\n",
    "    Filtra los números impares de una lista.\n",
    "\n",
    "    Args:\n",
    "        lista_numeros (list): Lista de números enteros.\n",
    "\n",
    "    Returns:\n",
    "        list: Lista con solo los números impares.\n",
    "    \"\"\"\n",
    "    try:\n",
    "        return list(filter(lambda x: x % 2 != 0, lista_numeros))\n",
    "    \n",
    "    except Exception:\n",
    "        print(\"Error: la lista debe contener solo valores numéricos.\")\n",
    "        return []"
   ]
  },
  {
   "cell_type": "code",
   "execution_count": 66,
   "id": "28879f5d",
   "metadata": {},
   "outputs": [
    {
     "name": "stdout",
     "output_type": "stream",
     "text": [
      "[1, 3, 5, 7]\n",
      "Error: la lista debe contener solo valores numéricos.\n",
      "[]\n"
     ]
    }
   ],
   "source": [
    "numeros_validos = [1, 2, 3, 4, 5, 6, 7]\n",
    "print(filtrar_impares(numeros_validos))  \n",
    "\n",
    "numeros_invalidos = [1, \"dos\", 3]\n",
    "print(filtrar_impares(numeros_invalidos))"
   ]
  },
  {
   "cell_type": "code",
   "execution_count": 2,
   "id": "37412d8f",
   "metadata": {},
   "outputs": [],
   "source": [
    "def filtrar_enteros(lista):\n",
    "    \"\"\"\n",
    "    Filtra los valores enteros de una lista que puede contener ints y strings.\n",
    "\n",
    "    Args:\n",
    "        lista (list): Lista con elementos de tipo int y str.\n",
    "\n",
    "    Returns:\n",
    "        list: Lista con solo los valores enteros.\n",
    "    \"\"\"\n",
    "    return list(filter(lambda x: type(x) == int, lista))\n",
    "  \n"
   ]
  },
  {
   "cell_type": "code",
   "execution_count": 3,
   "id": "0a61bc6a",
   "metadata": {},
   "outputs": [
    {
     "name": "stdout",
     "output_type": "stream",
     "text": [
      "[1, 3, 5]\n"
     ]
    }
   ],
   "source": [
    "mi_lista = [1, \"dos\", 3, \"cuatro\", 5]\n",
    "\n",
    "print(filtrar_enteros(mi_lista)) "
   ]
  },
  {
   "cell_type": "code",
   "execution_count": 4,
   "id": "c0618fa8",
   "metadata": {},
   "outputs": [],
   "source": [
    "def calcular_cubo(numero):\n",
    "    \"\"\"\n",
    "    Calcula el cubo de un número.\n",
    "\n",
    "    Args:\n",
    "        numero (int or float): Número a elevar al cubo.\n",
    "\n",
    "    Returns:\n",
    "        int or float | None: El número elevado al cubo, o None si ocurre un error.\n",
    "    \"\"\"\n",
    "    try:\n",
    "        cubo = lambda x: x ** 3\n",
    "        return cubo(numero)\n",
    "    except Exception:\n",
    "        print(\"Error: el argumento debe ser un número (int o float).\")\n",
    "        return None\n"
   ]
  },
  {
   "cell_type": "code",
   "execution_count": 5,
   "id": "4d0b66ba",
   "metadata": {},
   "outputs": [
    {
     "name": "stdout",
     "output_type": "stream",
     "text": [
      "27\n",
      "91.125\n",
      "Error: el argumento debe ser un número (int o float).\n",
      "None\n"
     ]
    }
   ],
   "source": [
    "print(calcular_cubo(3))    \n",
    "print(calcular_cubo(4.5))\n",
    "print(calcular_cubo(\"hola\"))"
   ]
  },
  {
   "cell_type": "code",
   "execution_count": null,
   "id": "91a2bb8b",
   "metadata": {},
   "outputs": [],
   "source": [
    "def producto_lista(lista_numeros):\n",
    "    \"\"\"\n",
    "    Calcula el producto de todos los valores en una lista.\n",
    "\n",
    "    Args:\n",
    "        lista_numeros (list): Lista de números (int o float).\n",
    "\n",
    "    Returns:\n",
    "        int or float: Producto total de los valores, o None si ocurre un error.\n",
    "    \"\"\"\n",
    "    try:\n",
    "        return reduce(lambda acc, valor: acc * valor, lista_numeros)\n",
    "    except Exception:\n",
    "        print(\"Error: la lista debe contener solo números y no puede estar vacía.\")\n",
    "        return None\n",
    "\n"
   ]
  },
  {
   "cell_type": "code",
   "execution_count": 9,
   "id": "9e602b46",
   "metadata": {},
   "outputs": [
    {
     "name": "stdout",
     "output_type": "stream",
     "text": [
      "24\n",
      "20\n",
      "Error: la lista debe contener solo números y no puede estar vacía.\n",
      "None\n",
      "Error: la lista debe contener solo números y no puede estar vacía.\n",
      "None\n"
     ]
    }
   ],
   "source": [
    "print(producto_lista([1, 2, 3, 4]))\n",
    "print(producto_lista([5, 2, 2]))\n",
    "print(producto_lista([]))\n",
    "print(producto_lista([\"adios\", \"hola\"]))"
   ]
  },
  {
   "cell_type": "code",
   "execution_count": 10,
   "id": "98f3bba6",
   "metadata": {},
   "outputs": [],
   "source": [
    "def concatenar_palabras(lista_palabras):\n",
    "    \"\"\"\n",
    "    Concatena todas las palabras de una lista en un solo string usando reduce().\n",
    "\n",
    "    Args:\n",
    "        lista_palabras (list): Lista de palabras.\n",
    "\n",
    "    Returns:\n",
    "        str: Palabras concatenadas en un único string.\n",
    "    \"\"\"\n",
    "    try:\n",
    "        return reduce(lambda acc, palabra: acc + palabra, lista_palabras)\n",
    "    \n",
    "    except Exception:\n",
    "        print(\"Error: la lista debe contener solo strings y no estar vacía.\")\n",
    "        return \"\"\n"
   ]
  },
  {
   "cell_type": "code",
   "execution_count": 12,
   "id": "abcbe038",
   "metadata": {},
   "outputs": [
    {
     "name": "stdout",
     "output_type": "stream",
     "text": [
      "Hola mundo\n",
      "Maria-Juan\n",
      "Error: la lista debe contener solo strings y no estar vacía.\n",
      "\n",
      "Error: la lista debe contener solo strings y no estar vacía.\n",
      "\n"
     ]
    }
   ],
   "source": [
    "print(concatenar_palabras([\"Hola\", \" \", \"mundo\"]))   \n",
    "print(concatenar_palabras([\"Maria\", \"-\", \"Juan\"])) \n",
    "print(concatenar_palabras([]))                      \n",
    "print(concatenar_palabras([\"Hola\", 123]))"
   ]
  },
  {
   "cell_type": "code",
   "execution_count": null,
   "id": "52e92388",
   "metadata": {},
   "outputs": [],
   "source": [
    "def diferencia_total(lista_numeros):\n",
    "    \"\"\"\n",
    "    Calcula la diferencia total acumulada de los valores de una lista .\n",
    "\n",
    "    Args:\n",
    "        lista_numeros (list): Lista de números (int o float).\n",
    "\n",
    "    Returns:\n",
    "        int or float: Resultado de restar los valores de izquierda a derecha.\n",
    "    \"\"\"\n",
    "    try:\n",
    "        return reduce(lambda acc, num: acc - num, lista_numeros)\n",
    "    except Exception:\n",
    "        print(\"Error: la lista debe contener solo números y no estar vacía.\")\n",
    "        return None\n"
   ]
  },
  {
   "cell_type": "code",
   "execution_count": 15,
   "id": "5e52b08d",
   "metadata": {},
   "outputs": [
    {
     "name": "stdout",
     "output_type": "stream",
     "text": [
      "7\n",
      "-8\n",
      "Error: la lista debe contener solo números y no estar vacía.\n",
      "None\n",
      "Error: la lista debe contener solo números y no estar vacía.\n",
      "None\n"
     ]
    }
   ],
   "source": [
    "print(diferencia_total([10, 2, 1]))  # 7\n",
    "print(diferencia_total([20, 25, 3]))   # 12\n",
    "print(diferencia_total([]))          # Error y None\n",
    "print(diferencia_total([5, \"a\", 1])) # Error y None"
   ]
  },
  {
   "cell_type": "code",
   "execution_count": 17,
   "id": "4c28e196",
   "metadata": {},
   "outputs": [],
   "source": [
    "def contar_caracteres(cadena):\n",
    "    \"\"\"\n",
    "    Cuenta el número de caracteres en una cadena de texto.\n",
    "\n",
    "    Args:\n",
    "        cadena (str): Cadena de texto.\n",
    "\n",
    "    Returns:\n",
    "        int: Número total de caracteres en la cadena.\n",
    "    \"\"\"\n",
    "    return len(cadena)"
   ]
  },
  {
   "cell_type": "code",
   "execution_count": 19,
   "id": "a538579b",
   "metadata": {},
   "outputs": [
    {
     "name": "stdout",
     "output_type": "stream",
     "text": [
      "10\n",
      "0\n"
     ]
    }
   ],
   "source": [
    "print(contar_caracteres(\"Hola mundo\"))\n",
    "print(contar_caracteres(\"\"))"
   ]
  },
  {
   "cell_type": "code",
   "execution_count": 20,
   "id": "11aa840c",
   "metadata": {},
   "outputs": [],
   "source": [
    "resto_lambda = lambda num1, num2: num1 % num2"
   ]
  },
  {
   "cell_type": "code",
   "execution_count": 21,
   "id": "8b3d7340",
   "metadata": {},
   "outputs": [
    {
     "name": "stdout",
     "output_type": "stream",
     "text": [
      "1\n"
     ]
    }
   ],
   "source": [
    "print(resto_lambda(10, 3))"
   ]
  },
  {
   "cell_type": "code",
   "execution_count": null,
   "id": "faeceaf7",
   "metadata": {},
   "outputs": [],
   "source": [
    "def promedio_v2(lista_numeros):\n",
    "    \"\"\"\n",
    "    Calcula el promedio de una lista de números.\n",
    "\n",
    "    Args:\n",
    "        lista_numeros (list): Lista de números (int o float).\n",
    "\n",
    "    Returns:\n",
    "        float | None: Promedio de los valores o None si la lista está vacía.\n",
    "    \"\"\"\n",
    "    try:\n",
    "        return sum(lista_numeros) / len(lista_numeros)\n",
    "    except ZeroDivisionError:\n",
    "        print(\"Error: la lista está vacía, no se puede calcular el promedio.\")\n",
    "        return None\n",
    "    except Exception:\n",
    "        print(\"Error: la lista debe contener solo valores numéricos.\")\n",
    "        return None"
   ]
  },
  {
   "cell_type": "code",
   "execution_count": null,
   "id": "1e7fffd8",
   "metadata": {},
   "outputs": [
    {
     "name": "stdout",
     "output_type": "stream",
     "text": [
      "6.666666666666667\n",
      "2.5\n",
      "Error: la lista está vacía, no se puede calcular el promedio.\n",
      "None\n",
      "Error: la lista debe contener solo valores numéricos.\n",
      "None\n"
     ]
    }
   ],
   "source": [
    "print(promedio_v2([4, 6, 10]))\n",
    "print(promedio_v2([1, 2, 3, 4])) \n",
    "print(promedio_v2([]))\n",
    "print(promedio_v2([1, \"dos\", 3]))"
   ]
  },
  {
   "cell_type": "code",
   "execution_count": 1,
   "id": "8c6689b8",
   "metadata": {},
   "outputs": [],
   "source": [
    "def primer_duplicado(lista):\n",
    "    \"\"\"\n",
    "    Busca el primer elemento duplicado en una lista.\n",
    "\n",
    "    Args:\n",
    "        lista (list): Lista de elementos.\n",
    "\n",
    "    Returns:\n",
    "        elemento | None: El primer elemento duplicado, o None si no hay duplicados.\n",
    "    \"\"\"\n",
    "    vistos = set()\n",
    "    for elem in lista:\n",
    "        if elem in vistos:\n",
    "            return elem\n",
    "        vistos.add(elem)\n",
    "    return None"
   ]
  },
  {
   "cell_type": "code",
   "execution_count": 4,
   "id": "3e42a8f5",
   "metadata": {},
   "outputs": [
    {
     "name": "stdout",
     "output_type": "stream",
     "text": [
      "2\n",
      "None\n",
      "a\n"
     ]
    }
   ],
   "source": [
    "print(primer_duplicado([1, 2, 3, 2, 5, 3]))   \n",
    "print(primer_duplicado([10, 20, 30, 40]))  \n",
    "print(primer_duplicado([\"a\", \"b\", \"c\", \"a\"]))"
   ]
  },
  {
   "cell_type": "code",
   "execution_count": 5,
   "id": "62cba72c",
   "metadata": {},
   "outputs": [],
   "source": [
    "def enmascarar_variable(valor):\n",
    "    \"\"\"\n",
    "    Convierte una variable a cadena de texto y enmascara todos los caracteres con '#',\n",
    "    excepto los últimos cuatro.\n",
    "\n",
    "    Args:\n",
    "        valor (any): Cualquier valor a convertir en string.\n",
    "\n",
    "    Returns:\n",
    "        str: Cadena enmascarada.\n",
    "    \"\"\"\n",
    "    try:\n",
    "        texto = str(valor)  \n",
    "\n",
    "        if len(texto) <= 4:\n",
    "            return texto\n",
    "        else:\n",
    "            return \"#\" * (len(texto) - 4) + texto[-4:]\n",
    "        \n",
    "    except Exception:\n",
    "        print(\"Error: no se pudo convertir el valor a string.\")\n",
    "        return \"\"\n"
   ]
  },
  {
   "cell_type": "code",
   "execution_count": 6,
   "id": "6c920680",
   "metadata": {},
   "outputs": [
    {
     "name": "stdout",
     "output_type": "stream",
     "text": [
      "#####6789\n",
      "######seña\n",
      "1234\n",
      "abc\n"
     ]
    }
   ],
   "source": [
    "print(enmascarar_variable(123456789))\n",
    "print(enmascarar_variable(\"contraseña\"))\n",
    "print(enmascarar_variable(\"1234\")) \n",
    "print(enmascarar_variable(\"abc\"))"
   ]
  },
  {
   "cell_type": "code",
   "execution_count": 7,
   "id": "dcc929f9",
   "metadata": {},
   "outputs": [],
   "source": [
    "def palabras_anagramas(palabra1, palabra2):\n",
    "    \"\"\"\n",
    "    Determina si dos palabras son anagramas.\n",
    "\n",
    "    Args:\n",
    "        palabra1 (str): Primera palabra.\n",
    "        palabra2 (str): Segunda palabra.\n",
    "\n",
    "    Returns:\n",
    "        bool: True si son anagramas, False en caso contrario.\n",
    "    \"\"\"\n",
    "    return sorted(palabra1.lower()) == sorted(palabra2.lower())\n"
   ]
  },
  {
   "cell_type": "code",
   "execution_count": 10,
   "id": "3b8f2a4c",
   "metadata": {},
   "outputs": [
    {
     "name": "stdout",
     "output_type": "stream",
     "text": [
      "True\n",
      "False\n",
      "True\n"
     ]
    }
   ],
   "source": [
    "print(palabras_anagramas(\"Roma\", \"amor\"))  \n",
    "print(palabras_anagramas(\"hola\", \"adios\"))  \n",
    "print(palabras_anagramas(\"listen\", \"silent\")) "
   ]
  },
  {
   "cell_type": "code",
   "execution_count": 14,
   "id": "ccc6f463",
   "metadata": {},
   "outputs": [],
   "source": [
    "def buscar_nombre():\n",
    "    \"\"\"\n",
    "    Pide al usuario una lista de nombres y busca un nombre específico dentro de ella.\n",
    "\n",
    "    Returns:\n",
    "        str: Mensaje indicando si se encontró el nombre o se produjo un error.\n",
    "    \"\"\"\n",
    "    try:\n",
    "        entrada = input(\"Introduce una lista de nombres separados por comas: \")\n",
    "        lista_nombres = [n.strip() for n in entrada.split(\",\")]\n",
    "\n",
    "        nombre_buscar = input(\"Introduce el nombre que deseas buscar: \").strip()\n",
    "\n",
    "        if nombre_buscar in lista_nombres:\n",
    "            mensaje = f\"El nombre '{nombre_buscar}' fue encontrado en la lista.\"\n",
    "            return mensaje\n",
    "        else:\n",
    "            raise ValueError(f\"El nombre '{nombre_buscar}' no está en la lista.\")\n",
    "\n",
    "    except ValueError as e:\n",
    "        print(\"Error:\", e)\n",
    "        return None\n",
    "    except Exception:\n",
    "        print(\"Error inesperado: asegúrate de ingresar datos válidos.\")\n",
    "        return None"
   ]
  },
  {
   "cell_type": "code",
   "execution_count": 16,
   "id": "adaab052",
   "metadata": {},
   "outputs": [
    {
     "name": "stdout",
     "output_type": "stream",
     "text": [
      "Error: El nombre 'Maria' no está en la lista.\n"
     ]
    }
   ],
   "source": [
    "buscar_nombre()"
   ]
  },
  {
   "cell_type": "code",
   "execution_count": 17,
   "id": "afee7f8f",
   "metadata": {},
   "outputs": [],
   "source": [
    "def buscar_empleado(nombre_completo, lista_empleados):\n",
    "    \"\"\"\n",
    "    Busca un empleado en lista de empleados y devolver su puesto.\n",
    "\n",
    "    Args:\n",
    "        nombre_completo (str): Nombre completo del empleado a buscar.\n",
    "        lista_empleados (list): Lista de diccionarios con claves 'nombre' y 'puesto'.\n",
    "\n",
    "    Returns:\n",
    "        str: Puesto del empleado o mensaje si no se encuentra.\n",
    "    \"\"\"\n",
    "    try:\n",
    "        for empleado in lista_empleados:\n",
    "            if empleado.get(\"nombre\", \"\").lower() == nombre_completo.lower():\n",
    "                return f\"{nombre_completo} trabaja como {empleado.get('puesto')}.\"\n",
    "            \n",
    "        return f\"{nombre_completo} no trabaja aquí.\"\n",
    "    \n",
    "    except Exception:\n",
    "        return \"Error: formato de lista inválido. Se esperaba lista de diccionarios.\"\n"
   ]
  },
  {
   "cell_type": "code",
   "execution_count": 18,
   "id": "78d9b539",
   "metadata": {},
   "outputs": [
    {
     "name": "stdout",
     "output_type": "stream",
     "text": [
      "Luis Pérez trabaja como Analista.\n",
      "Sofia Ortiz no trabaja aquí.\n"
     ]
    }
   ],
   "source": [
    "empleados = [\n",
    "    {\"nombre\": \"Ana García\", \"puesto\": \"Directora\"},\n",
    "    {\"nombre\": \"Luis Pérez\", \"puesto\": \"Analista\"},\n",
    "    {\"nombre\": \"Marta Gil\", \"puesto\": \"Desarrolladora\"}\n",
    "]\n",
    "\n",
    "print(buscar_empleado(\"Luis Pérez\", empleados))\n",
    "print(buscar_empleado(\"Sofia Ortiz\", empleados)) "
   ]
  },
  {
   "cell_type": "code",
   "execution_count": 19,
   "id": "1149e9b7",
   "metadata": {},
   "outputs": [],
   "source": [
    "def sumar_listas(lista1, lista2):\n",
    "    \"\"\"\n",
    "    Suma los elementos correspondientes de dos listas usando lambda.\n",
    "\n",
    "    Args:\n",
    "        lista1 (list): Primera lista de números.\n",
    "        lista2 (list): Segunda lista de números.\n",
    "\n",
    "    Returns:\n",
    "        list: Lista con la suma de los elementos correspondientes.\n",
    "    \"\"\"\n",
    "    try:\n",
    "        return list(map(lambda x, y: x + y, lista1, lista2))\n",
    "    except Exception:\n",
    "        print(\"Error: las listas deben contener solo números.\")\n",
    "        return []"
   ]
  },
  {
   "cell_type": "code",
   "execution_count": 20,
   "id": "15640507",
   "metadata": {},
   "outputs": [
    {
     "name": "stdout",
     "output_type": "stream",
     "text": [
      "[7, 7, 7]\n",
      "[11, 22]\n",
      "Error: las listas deben contener solo números.\n",
      "[]\n"
     ]
    }
   ],
   "source": [
    "print(sumar_listas([1, 2, 3], [6, 5, 4]))     \n",
    "print(sumar_listas([10, 20], [1, 2, 3])) \n",
    "print(sumar_listas([1, \"a\"], [2, 3]))           "
   ]
  },
  {
   "cell_type": "code",
   "execution_count": 13,
   "id": "b2c51ac3",
   "metadata": {},
   "outputs": [],
   "source": [
    "class Arbol:\n",
    "    def __init__(self):\n",
    "        \"\"\"\n",
    "        Inicializa un árbol con un tronco de longitud 1 y una lista vacía de ramas.\n",
    "        \"\"\"\n",
    "        self.tronco = 1\n",
    "        self.ramas = []\n",
    "\n",
    "    def crecer_tronco(self):\n",
    "        \"\"\"\n",
    "        Aumenta la longitud del tronco en 1.\n",
    "        \"\"\"\n",
    "        self.tronco += 1\n",
    "\n",
    "    def nueva_rama(self):\n",
    "        \"\"\"\n",
    "        Agrega una nueva rama con longitud 1.\n",
    "        \"\"\"\n",
    "        self.ramas.append(1)\n",
    "\n",
    "    def crecer_ramas(self):\n",
    "        \"\"\"\n",
    "        Aumenta en 1 la longitud de todas las ramas.\n",
    "        \"\"\"\n",
    "        self.ramas = [rama + 1 for rama in self.ramas]\n",
    "\n",
    "    def quitar_rama(self, posicion):\n",
    "        \"\"\"\n",
    "        Elimina una rama en la posición indicada (índice de lista).\n",
    "        \"\"\"\n",
    "        try:\n",
    "            self.ramas.pop(posicion)\n",
    "        except IndexError:\n",
    "            print(\"Error: la posición indicada no existe.\")\n",
    "\n",
    "    def info_arbol(self):\n",
    "        \"\"\"\n",
    "        Devuelve información del árbol: tronco, número de ramas y longitudes.\n",
    "\n",
    "        Returns:\n",
    "            str: Información formateada del árbol.\n",
    "        \"\"\"\n",
    "        return {\n",
    "            \"tronco\": self.tronco,\n",
    "            \"num_ramas\": len(self.ramas),\n",
    "            \"long_ramas\": self.ramas\n",
    "        }\n"
   ]
  },
  {
   "cell_type": "code",
   "execution_count": 14,
   "id": "2b95535d",
   "metadata": {},
   "outputs": [],
   "source": [
    "# 1. Crear un árbol\n",
    "arbol = Arbol()\n"
   ]
  },
  {
   "cell_type": "code",
   "execution_count": 15,
   "id": "4989e7a6",
   "metadata": {},
   "outputs": [],
   "source": [
    "# 2. Hacer crecer el tronco del árbol una unidad\n",
    "arbol.crecer_tronco()\n"
   ]
  },
  {
   "cell_type": "code",
   "execution_count": 16,
   "id": "aa503fcd",
   "metadata": {},
   "outputs": [],
   "source": [
    "# 3. Añadir una nueva rama al árbol\n",
    "arbol.nueva_rama()\n"
   ]
  },
  {
   "cell_type": "code",
   "execution_count": 17,
   "id": "85d09c96",
   "metadata": {},
   "outputs": [],
   "source": [
    "# 4. Hacer crecer todas las ramas del árbol una unidad\n",
    "arbol.crecer_ramas()"
   ]
  },
  {
   "cell_type": "code",
   "execution_count": 18,
   "id": "24f52daa",
   "metadata": {},
   "outputs": [],
   "source": [
    "\n",
    "# 5. Añadir dos nuevas ramas al árbol\n",
    "arbol.nueva_rama()\n",
    "arbol.nueva_rama()"
   ]
  },
  {
   "cell_type": "code",
   "execution_count": 19,
   "id": "9dbcd3c7",
   "metadata": {},
   "outputs": [],
   "source": [
    "# 6. Retirar la rama situada en la posición 2 \n",
    "\n",
    "arbol.quitar_rama(2)"
   ]
  },
  {
   "cell_type": "code",
   "execution_count": 20,
   "id": "22616a50",
   "metadata": {},
   "outputs": [
    {
     "name": "stdout",
     "output_type": "stream",
     "text": [
      "{'tronco': 2, 'num_ramas': 2, 'long_ramas': [2, 1]}\n"
     ]
    }
   ],
   "source": [
    "# 7. Obtener información sobre el árbol\n",
    "print(arbol.info_arbol())"
   ]
  },
  {
   "cell_type": "code",
   "execution_count": 21,
   "id": "f4ab321a",
   "metadata": {},
   "outputs": [],
   "source": [
    "class UsuarioBanco:\n",
    "    def __init__(self, nombre, saldo, cuenta_corriente=True):\n",
    "        \"\"\"\n",
    "        Inicializa un usuario de banco.\n",
    "\n",
    "        Args:\n",
    "            nombre (str): Nombre del usuario.\n",
    "            saldo (float): Saldo inicial.\n",
    "            cuenta_corriente (bool): Si tiene cuenta corriente (True/False).\n",
    "        \"\"\"\n",
    "        self.nombre = nombre\n",
    "        self.saldo = saldo\n",
    "        self.cuenta_corriente = cuenta_corriente\n",
    "\n",
    "    def retirar_dinero(self, cantidad):\n",
    "        \"\"\"\n",
    "        Retira dinero del saldo.\n",
    "\n",
    "        Args:\n",
    "            cantidad (float): Cantidad a retirar.\n",
    "\n",
    "        Raises:\n",
    "            ValueError: Si la cantidad es mayor que el saldo disponible.\n",
    "        \"\"\"\n",
    "\n",
    "        if cantidad <= 0:\n",
    "            raise ValueError(\"La cantidad a retirar debe ser positiva.\")\n",
    "        if cantidad > self.saldo:\n",
    "            raise ValueError(f\"{self.nombre} no tiene suficiente saldo.\")\n",
    "        self.saldo -= cantidad\n",
    "\n",
    "        return f\"{self.nombre} ha retirado {cantidad}€. Saldo actual: {self.saldo}€\"\n",
    "\n",
    "    def transferir_dinero(self, receptor, cantidad):\n",
    "        \"\"\"\n",
    "        Transfiere dinero desde el usuario actual hacia otro usuario.\n",
    "\n",
    "        Args:\n",
    "            receptor (UsuarioBanco): Usuario que recibe el dinero.\n",
    "            cantidad (float): Cantidad a transferir.\n",
    "\n",
    "        Raises:\n",
    "            ValueError: Si el usuario no tiene fondos suficientes.\n",
    "        \"\"\"\n",
    "\n",
    "        if not isinstance(receptor, UsuarioBanco):\n",
    "            raise ValueError(\"El receptor debe ser un objeto UsuarioBanco.\")\n",
    "        if cantidad <= 0:\n",
    "            raise ValueError(\"La cantidad a transferir debe ser positiva.\")\n",
    "        if cantidad > self.saldo:\n",
    "            raise ValueError(f\"{self.nombre} no tiene suficiente saldo para realizar la transferencia.\")\n",
    "        \n",
    "        self.saldo -= cantidad\n",
    "        receptor.saldo += cantidad\n",
    "\n",
    "        return f\"{self.nombre} transfirió {cantidad}€ a {receptor.nombre}. Saldo actual: {self.saldo}€\"\n",
    "    \n",
    "\n",
    "    def agregar_dinero(self, cantidad):\n",
    "        \"\"\"\n",
    "        Agrega dinero al saldo del usuario.\n",
    "\n",
    "        Args:\n",
    "            cantidad (float): Cantidad a agregar.\n",
    "        \"\"\"\n",
    "        if cantidad <= 0:\n",
    "            raise ValueError(\"La cantidad a agregar debe ser positiva.\")\n",
    "        \n",
    "        self.saldo += cantidad\n",
    "        \n",
    "        return f\"{self.nombre} agregó {cantidad}€. Saldo actual: {self.saldo}€\"\n"
   ]
  },
  {
   "cell_type": "code",
   "execution_count": 29,
   "id": "01436547",
   "metadata": {},
   "outputs": [],
   "source": [
    "# 1. Crear dos usuarios\n",
    "alicia = UsuarioBanco(\"Alicia\", 100, True)\n",
    "bob = UsuarioBanco(\"Bob\", 50, True)"
   ]
  },
  {
   "cell_type": "code",
   "execution_count": 30,
   "id": "cac2f5af",
   "metadata": {},
   "outputs": [
    {
     "data": {
      "text/plain": [
       "'Bob agregó 20€. Saldo actual: 70€'"
      ]
     },
     "execution_count": 30,
     "metadata": {},
     "output_type": "execute_result"
    }
   ],
   "source": [
    "# 2. Agregar 20 unidades de saldo a \"Bob\"\n",
    "bob.agregar_dinero(20)\n"
   ]
  },
  {
   "cell_type": "code",
   "execution_count": 31,
   "id": "3ae8ceee",
   "metadata": {},
   "outputs": [
    {
     "data": {
      "text/plain": [
       "'Alicia transfirió 20€ a Bob. Saldo actual: 80€'"
      ]
     },
     "execution_count": 31,
     "metadata": {},
     "output_type": "execute_result"
    }
   ],
   "source": [
    "# 3. Hacer una transferencia de 20 unidades desde \"Alicia\" a \"Bob\"\n",
    "alicia.transferir_dinero(bob, 20)"
   ]
  },
  {
   "cell_type": "code",
   "execution_count": 32,
   "id": "44fced0a",
   "metadata": {},
   "outputs": [
    {
     "ename": "ValueError",
     "evalue": "Bob no tiene suficiente saldo para realizar la transferencia.",
     "output_type": "error",
     "traceback": [
      "\u001b[31m---------------------------------------------------------------------------\u001b[39m",
      "\u001b[31mValueError\u001b[39m                                Traceback (most recent call last)",
      "\u001b[36mCell\u001b[39m\u001b[36m \u001b[39m\u001b[32mIn[32]\u001b[39m\u001b[32m, line 2\u001b[39m\n\u001b[32m      1\u001b[39m \u001b[38;5;66;03m# 3. Hacer una transferencia de 80 unidades desde \"Bob\" a \"Alicia\"\u001b[39;00m\n\u001b[32m----> \u001b[39m\u001b[32m2\u001b[39m \u001b[43mbob\u001b[49m\u001b[43m.\u001b[49m\u001b[43mtransferir_dinero\u001b[49m\u001b[43m(\u001b[49m\u001b[43malicia\u001b[49m\u001b[43m,\u001b[49m\u001b[43m \u001b[49m\u001b[32;43m100\u001b[39;49m\u001b[43m)\u001b[49m\n",
      "\u001b[36mCell\u001b[39m\u001b[36m \u001b[39m\u001b[32mIn[21]\u001b[39m\u001b[32m, line 51\u001b[39m, in \u001b[36mUsuarioBanco.transferir_dinero\u001b[39m\u001b[34m(self, receptor, cantidad)\u001b[39m\n\u001b[32m     49\u001b[39m     \u001b[38;5;28;01mraise\u001b[39;00m \u001b[38;5;167;01mValueError\u001b[39;00m(\u001b[33m\"\u001b[39m\u001b[33mLa cantidad a transferir debe ser positiva.\u001b[39m\u001b[33m\"\u001b[39m)\n\u001b[32m     50\u001b[39m \u001b[38;5;28;01mif\u001b[39;00m cantidad > \u001b[38;5;28mself\u001b[39m.saldo:\n\u001b[32m---> \u001b[39m\u001b[32m51\u001b[39m     \u001b[38;5;28;01mraise\u001b[39;00m \u001b[38;5;167;01mValueError\u001b[39;00m(\u001b[33mf\u001b[39m\u001b[33m\"\u001b[39m\u001b[38;5;132;01m{\u001b[39;00m\u001b[38;5;28mself\u001b[39m.nombre\u001b[38;5;132;01m}\u001b[39;00m\u001b[33m no tiene suficiente saldo para realizar la transferencia.\u001b[39m\u001b[33m\"\u001b[39m)\n\u001b[32m     53\u001b[39m \u001b[38;5;28mself\u001b[39m.saldo -= cantidad\n\u001b[32m     54\u001b[39m receptor.saldo += cantidad\n",
      "\u001b[31mValueError\u001b[39m: Bob no tiene suficiente saldo para realizar la transferencia."
     ]
    }
   ],
   "source": [
    "# 3. Hacer una transferencia de 80 unidades desde \"Bob\" a \"Alicia\"\n",
    "bob.transferir_dinero(alicia, 100)"
   ]
  },
  {
   "cell_type": "code",
   "execution_count": 33,
   "id": "49a2942f",
   "metadata": {},
   "outputs": [
    {
     "data": {
      "text/plain": [
       "'Alicia ha retirado 50€. Saldo actual: 30€'"
      ]
     },
     "execution_count": 33,
     "metadata": {},
     "output_type": "execute_result"
    }
   ],
   "source": [
    "# 4. Retirar 50 unidades de saldo a \"Alicia\"\n",
    "alicia.retirar_dinero(50)"
   ]
  },
  {
   "cell_type": "code",
   "execution_count": 59,
   "id": "984b6a7a",
   "metadata": {},
   "outputs": [],
   "source": [
    "def contar_palabras(texto):\n",
    "    \"\"\"\n",
    "    Cuenta cuántas veces aparece cada palabra en el texto.\n",
    "\n",
    "    Args:\n",
    "        texto (str): Texto de entrada.\n",
    "\n",
    "    Returns:\n",
    "        dict: Diccionario.\n",
    "    \"\"\"\n",
    "    palabras = texto.split()\n",
    "    frecuencias = {}\n",
    "    for palabra in palabras:\n",
    "        frecuencias[palabra] = frecuencias.get(palabra, 0) + 1\n",
    "        \n",
    "    return frecuencias"
   ]
  },
  {
   "cell_type": "code",
   "execution_count": 60,
   "id": "7e66d769",
   "metadata": {},
   "outputs": [],
   "source": [
    "def reemplazar_palabras(texto, palabra_original, palabra_nueva):\n",
    "    \"\"\"\n",
    "    Reemplaza todas las ocurrencias de una palabra por otra en el texto.\n",
    "\n",
    "    Args:\n",
    "        texto (str): Texto de entrada.\n",
    "        palabra_original (str): Palabra a reemplazar.\n",
    "        palabra_nueva (str): Nueva palabra.\n",
    "\n",
    "    Returns:\n",
    "        str: Texto con la palabra reemplazada.\n",
    "    \"\"\"\n",
    "    return texto.replace(palabra_original, palabra_nueva)"
   ]
  },
  {
   "cell_type": "code",
   "execution_count": 61,
   "id": "25e84dae",
   "metadata": {},
   "outputs": [],
   "source": [
    "def eliminar_palabra(texto, palabra_a_eliminar):\n",
    "    \"\"\"\n",
    "    Elimina todas las ocurrencias de una palabra del texto.\n",
    "\n",
    "    Args:\n",
    "        texto (str): Texto de entrada.\n",
    "        palabra_a_eliminar (str): Palabra a eliminar.\n",
    "\n",
    "    Returns:\n",
    "        str: Texto sin la palabra eliminada.\n",
    "    \"\"\"\n",
    "    palabras = texto.split()\n",
    "    palabras_filtradas = [p for p in palabras if p != palabra_a_eliminar]\n",
    "    return \" \".join(palabras_filtradas)"
   ]
  },
  {
   "cell_type": "code",
   "execution_count": null,
   "id": "302a89cb",
   "metadata": {},
   "outputs": [],
   "source": [
    "def procesar_texto(texto, opcion, *args):\n",
    "    \"\"\"\n",
    "    Procesa un texto según la opción especificada:\n",
    "    - \"contar\": cuenta las palabras\n",
    "    - \"reemplazar\": reemplaza palabra_original por palabra_nueva\n",
    "    - \"eliminar\": elimina una palabra\n",
    "\n",
    "    Args:\n",
    "        texto (str): Texto de entrada.\n",
    "        opcion (str): Opción a realizar: \"contar\", \"reemplazar\" o \"eliminar\".\n",
    "        *args: Argumentos adicionales según la opción.\n",
    "\n",
    "    Returns:\n",
    "        dict | str: Resultado del procesamiento.\n",
    "    \"\"\"\n",
    "    try:\n",
    "        if opcion == \"contar\":\n",
    "            return contar_palabras(texto)\n",
    "        elif opcion == \"reemplazar\":\n",
    "            palabra_original, palabra_nueva = args\n",
    "            return reemplazar_palabras(texto, palabra_original, palabra_nueva)\n",
    "        elif opcion == \"eliminar\":\n",
    "            (palabra_a_eliminar,) = args\n",
    "            return eliminar_palabra(texto, palabra_a_eliminar)\n",
    "        else:\n",
    "            raise ValueError(\"Opción inválida. Usa 'contar', 'reemplazar' o 'eliminar'.\")\n",
    "        \n",
    "    except Exception as e:\n",
    "        return f\"Error: {e}\""
   ]
  },
  {
   "cell_type": "code",
   "execution_count": 63,
   "id": "1dd4f588",
   "metadata": {},
   "outputs": [
    {
     "name": "stdout",
     "output_type": "stream",
     "text": [
      "Contar palabras:\n",
      "{'el': 3, 'perro': 2, 'juega': 1, 'en': 1, 'jardín': 1, 'con': 1}\n"
     ]
    }
   ],
   "source": [
    "texto_prueba = \"el perro juega en el jardín con el perro\"\n",
    "\n",
    "# 1. Contar palabras\n",
    "print(\"Contar palabras:\")\n",
    "print(procesar_texto(texto_prueba, \"contar\"))\n"
   ]
  },
  {
   "cell_type": "code",
   "execution_count": 64,
   "id": "55ecba87",
   "metadata": {},
   "outputs": [
    {
     "name": "stdout",
     "output_type": "stream",
     "text": [
      "\n",
      "Reemplazar palabra:\n",
      "el gato juega en el jardín con el gato\n"
     ]
    }
   ],
   "source": [
    "# 2. Reemplazar \"perro\" por \"gato\"\n",
    "print(\"\\nReemplazar palabra:\")\n",
    "print(procesar_texto(texto_prueba, \"reemplazar\", \"perro\", \"gato\"))"
   ]
  },
  {
   "cell_type": "code",
   "execution_count": 65,
   "id": "7d6b5fd9",
   "metadata": {},
   "outputs": [
    {
     "name": "stdout",
     "output_type": "stream",
     "text": [
      "\n",
      "Eliminar palabra:\n",
      "perro juega en jardín con perro\n"
     ]
    }
   ],
   "source": [
    "\n",
    "# 3. Eliminar \"el\"\n",
    "print(\"\\nEliminar palabra:\")\n",
    "print(procesar_texto(texto_prueba, \"eliminar\", \"el\"))"
   ]
  },
  {
   "cell_type": "code",
   "execution_count": 36,
   "id": "222c02ca",
   "metadata": {},
   "outputs": [],
   "source": [
    "def momento_dia(hora):\n",
    "    \"\"\"\n",
    "    Pedir al usuario una hora y confirmar si es mañana, tarde o noche.\n",
    "    \"\"\"\n",
    "    try:\n",
    "        if hora < 0 or hora > 23:\n",
    "            raise ValueError(\"La hora debe estar entre 0 y 23.\")\n",
    "\n",
    "        if 6 <= hora < 12:\n",
    "            resultado =\"Es de mañana.\"\n",
    "        elif 12 <= hora < 20:\n",
    "            resultado =\"Es de tarde.\"\n",
    "        else:\n",
    "            resultado = \"Es de noche.\"\n",
    "\n",
    "        return resultado  \n",
    "    except ValueError as e:\n",
    "        print(\"Error:\", e)\n",
    "        return None\n",
    "    except Exception:\n",
    "        print(\"Error inesperado: introduce un número entero válido.\")\n",
    "        return None\n"
   ]
  },
  {
   "cell_type": "code",
   "execution_count": 37,
   "id": "6a7e0249",
   "metadata": {},
   "outputs": [
    {
     "name": "stdout",
     "output_type": "stream",
     "text": [
      "Es de noche.\n"
     ]
    }
   ],
   "source": [
    "hora = int(input(\"Introduce la hora:\"))\n",
    "print(momento_dia(hora))"
   ]
  },
  {
   "cell_type": "code",
   "execution_count": 81,
   "id": "025f4db4",
   "metadata": {},
   "outputs": [],
   "source": [
    "def calificacion(nota):\n",
    "    \"\"\"\n",
    "    Determina la calificación en texto a partir de la nota numérica.\n",
    "\n",
    "    Args:\n",
    "        nota (int): Calificación numérica (0-100).\n",
    "\n",
    "    Returns:\n",
    "        str: Texto con la calificación correspondiente.\n",
    "    \"\"\"\n",
    "    try:\n",
    "        if nota < 0 or nota > 100:\n",
    "            raise ValueError(\"La calificación debe estar entre 0 y 100.\")\n",
    "\n",
    "        if nota <= 69:\n",
    "            return \"insuficiente\"\n",
    "        elif nota <= 79:\n",
    "            return \"bien\"\n",
    "        elif nota <= 89:\n",
    "            return \"muy bien\"\n",
    "        else:\n",
    "            return \"excelente\"\n",
    "        \n",
    "    except Exception as e:\n",
    "        return f\"Error: {e}\""
   ]
  },
  {
   "cell_type": "code",
   "execution_count": 82,
   "id": "84108b9a",
   "metadata": {},
   "outputs": [
    {
     "name": "stdout",
     "output_type": "stream",
     "text": [
      "insuficiente\n",
      "bien\n",
      "muy bien\n",
      "excelente\n",
      "Error: La calificación debe estar entre 0 y 100.\n"
     ]
    }
   ],
   "source": [
    "print(calificacion(55))\n",
    "print(calificacion(75))\n",
    "print(calificacion(85))\n",
    "print(calificacion(95))\n",
    "print(calificacion(150))"
   ]
  },
  {
   "cell_type": "code",
   "execution_count": null,
   "id": "ed19e5f0",
   "metadata": {},
   "outputs": [],
   "source": [
    "def calcular_area(figura, datos):\n",
    "    \"\"\"\n",
    "    Calcula el área de una figura geométrica.\n",
    "\n",
    "    Args:\n",
    "        figura (str): Tipo de figura (\"rectangulo\", \"circulo\", \"triangulo\").\n",
    "        datos (tuple): Datos necesarios para calcular el área.\n",
    "            - rectangulo: (base, altura)\n",
    "            - circulo: (radio,)\n",
    "            - triangulo: (base, altura)\n",
    "\n",
    "    Returns:\n",
    "        float: Área de la figura.\n",
    "    \"\"\"\n",
    "    try:\n",
    "        figura = figura.lower()\n",
    "\n",
    "        if figura == \"rectangulo\":\n",
    "            base, altura = datos\n",
    "            return base * altura\n",
    "        elif figura == \"circulo\":\n",
    "            (radio,) = datos\n",
    "            return math.pi * (radio ** 2)\n",
    "        elif figura == \"triangulo\":\n",
    "            base, altura = datos\n",
    "            return (base * altura) / 2\n",
    "        else:\n",
    "            return \"Error: figura no reconocida. Usa rectangulo, circulo o triangulo.\"\n",
    "        \n",
    "    except Exception as e:\n",
    "        return f\"Error en los datos: {e}\"\n"
   ]
  },
  {
   "cell_type": "code",
   "execution_count": null,
   "id": "01ddcc54",
   "metadata": {},
   "outputs": [
    {
     "name": "stdout",
     "output_type": "stream",
     "text": [
      "50\n",
      "28.274333882308138\n",
      "12.0\n",
      "Error: figura no reconocida. Usa rectangulo, circulo o triangulo.\n"
     ]
    }
   ],
   "source": [
    "print(calcular_area(\"rectangulo\", (5, 10)))\n",
    "print(calcular_area(\"circulo\", (3,)))\n",
    "print(calcular_area(\"triangulo\", (6, 4))) \n",
    "print(calcular_area(\"hexagono\", (2, 3)))"
   ]
  },
  {
   "cell_type": "code",
   "execution_count": 43,
   "id": "7d759495",
   "metadata": {},
   "outputs": [],
   "source": [
    "def compra(precio, tiene_cupon, descuento=0):\n",
    "    \"\"\"\n",
    "    Calcula el monto final de una compra interactuando con el usuario.\n",
    "    \"\"\"\n",
    "    try:\n",
    "        if tiene_cupon == \"S\":\n",
    "                        \n",
    "            if descuento > 0:\n",
    "                precio_final = precio - descuento\n",
    "                if precio_final < 0:\n",
    "                    precio_final = 0\n",
    "                print(f\"Precio final con descuento: {precio_final}€\")\n",
    "                return precio_final\n",
    "            else:\n",
    "                print(\"El cupón no es válido, se aplica precio completo.\")\n",
    "                return precio\n",
    "        elif tiene_cupon == \"N\":\n",
    "            print(f\"Precio final sin descuento: {precio}€\")\n",
    "            return precio\n",
    "        else:\n",
    "            print(\"Respuesta no válida. No se aplica descuento.\")\n",
    "            return precio\n",
    "    except ValueError:\n",
    "        print(\"Error: introduce un valor numérico válido.\")\n",
    "        return None"
   ]
  },
  {
   "cell_type": "code",
   "execution_count": 44,
   "id": "3ef147da",
   "metadata": {},
   "outputs": [
    {
     "name": "stdout",
     "output_type": "stream",
     "text": [
      "Precio final sin descuento: 33.0€\n"
     ]
    },
    {
     "data": {
      "text/plain": [
       "33.0"
      ]
     },
     "execution_count": 44,
     "metadata": {},
     "output_type": "execute_result"
    }
   ],
   "source": [
    "precio = float(input(\"Introduce el precio original del artículo (€): \"))\n",
    "tiene_cupon = input(\"¿Tienes un cupón de descuento? (S/N): \").strip().upper()\n",
    "\n",
    "descuento=0.0\n",
    "\n",
    "if tiene_cupon ==\"S\":\n",
    "    descuento = float(input(\"Introduce el valor del cupón de descuento (€): \"))\n",
    "\n",
    "compra(precio,tiene_cupon,descuento)\n"
   ]
  },
  {
   "cell_type": "code",
   "execution_count": null,
   "id": "8ab43842",
   "metadata": {},
   "outputs": [],
   "source": []
  }
 ],
 "metadata": {
  "kernelspec": {
   "display_name": "Python 3",
   "language": "python",
   "name": "python3"
  },
  "language_info": {
   "codemirror_mode": {
    "name": "ipython",
    "version": 3
   },
   "file_extension": ".py",
   "mimetype": "text/x-python",
   "name": "python",
   "nbconvert_exporter": "python",
   "pygments_lexer": "ipython3",
   "version": "3.13.1"
  }
 },
 "nbformat": 4,
 "nbformat_minor": 5
}
